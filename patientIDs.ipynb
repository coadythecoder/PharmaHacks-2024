{
 "cells": [
  {
   "cell_type": "code",
   "execution_count": 1,
   "metadata": {},
   "outputs": [],
   "source": [
    "import pandas as pd\n",
    "import numpy as np\n"
   ]
  },
  {
   "cell_type": "markdown",
   "metadata": {},
   "source": [
    "Read Data into dataframes"
   ]
  },
  {
   "cell_type": "code",
   "execution_count": 2,
   "metadata": {},
   "outputs": [],
   "source": [
    "patient_ids = pd.read_csv(\"patient_names.csv\")\n",
    "patient_outcomes = pd.read_csv(\"patient_outcomes2.csv\")"
   ]
  },
  {
   "cell_type": "markdown",
   "metadata": {},
   "source": [
    "Match outcomes with patient ids"
   ]
  },
  {
   "cell_type": "code",
   "execution_count": 12,
   "metadata": {},
   "outputs": [],
   "source": [
    "patient_outcome_list = []\n",
    "for index in range(313082):\n",
    "    if (patient_ids.at[index, 'Unnamed: 0'] == patient_outcomes.at[index, 'Unnamed: 0']):\n",
    "        new_row = {\"Patient ID\" : patient_ids.at[index, 'x'], \"Outcome\" : patient_outcomes['x'][index]}\n",
    "        patient_outcome_list.append(new_row)\n"
   ]
  },
  {
   "cell_type": "code",
   "execution_count": 13,
   "metadata": {},
   "outputs": [],
   "source": [
    "unique_patient_outcome_list = []\n",
    "for index in range(313082):\n",
    "    if patient_outcome_list[index] in unique_patient_outcome_list:\n",
    "        pass\n",
    "    else:\n",
    "        unique_patient_outcome_list.append(patient_outcome_list[index])"
   ]
  },
  {
   "cell_type": "code",
   "execution_count": null,
   "metadata": {},
   "outputs": [],
   "source": [
    "print(unique_patient_outcome_list[0].values())"
   ]
  },
  {
   "cell_type": "markdown",
   "metadata": {},
   "source": [
    "Write unique patient outcomes to csv"
   ]
  },
  {
   "cell_type": "code",
   "execution_count": 16,
   "metadata": {},
   "outputs": [],
   "source": [
    "import csv\n",
    "with open(\"unique_patient_outcomes2.csv\", 'w') as file:\n",
    "    writer = csv.writer(file, dialect='excel')\n",
    "    writer.writerow(unique_patient_outcome_list[0])\n",
    "    for index in range(49):\n",
    "        writer.writerow(unique_patient_outcome_list[index].values())"
   ]
  }
 ],
 "metadata": {
  "kernelspec": {
   "display_name": "Python 3",
   "language": "python",
   "name": "python3"
  },
  "language_info": {
   "codemirror_mode": {
    "name": "ipython",
    "version": 3
   },
   "file_extension": ".py",
   "mimetype": "text/x-python",
   "name": "python",
   "nbconvert_exporter": "python",
   "pygments_lexer": "ipython3",
   "version": "3.9.6"
  }
 },
 "nbformat": 4,
 "nbformat_minor": 2
}
